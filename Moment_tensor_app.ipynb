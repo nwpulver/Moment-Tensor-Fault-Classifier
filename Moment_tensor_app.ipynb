{
 "cells": [
  {
   "cell_type": "code",
   "execution_count": 1,
   "metadata": {},
   "outputs": [],
   "source": [
    "from fastai.vision.all import *\n",
    "from fastai.vision.widgets import *"
   ]
  },
  {
   "cell_type": "code",
   "execution_count": 39,
   "metadata": {},
   "outputs": [
    {
     "name": "stdout",
     "output_type": "stream",
     "text": [
      "Enabling: voila\n",
      "- Writing config: /opt/conda/envs/fastai/etc/jupyter\n",
      "    - Validating...\n",
      "      voila 0.1.23 \u001b[32mOK\u001b[0m\n"
     ]
    }
   ],
   "source": [
    "# !pip install voila\n",
    "!jupyter serverextension enable voila --sys-prefix"
   ]
  },
  {
   "cell_type": "code",
   "execution_count": 32,
   "metadata": {},
   "outputs": [
    {
     "data": {
      "text/plain": [
       "['Normal', 'Oblique', 'Reverse', 'Strike slip']"
      ]
     },
     "execution_count": 32,
     "metadata": {},
     "output_type": "execute_result"
    }
   ],
   "source": [
    "learner = load_learner('export.pkl', cpu=True)\n",
    "learner_vocab = list(learner.dls.vocab)\n",
    "uploader = widgets.FileUpload()\n",
    "out = widgets.Output()\n",
    "predictions_label = widgets.Label()\n",
    "prob_label = widgets.Label()\n",
    "Normal_label = widgets.Label()\n",
    "Oblique_label = widgets.Label()\n",
    "Reverse_label = widgets.Label()\n",
    "Strike_Slip_label = widgets.Label()\n",
    "learner_vocab"
   ]
  },
  {
   "cell_type": "code",
   "execution_count": 40,
   "metadata": {},
   "outputs": [],
   "source": [
    "def on_upload(change):\n",
    "    uploader.value.clear()\n",
    "    uploader._counter = 0\n",
    "    image = PILImage.create(uploader.data[-1])\n",
    "    out.clear_output(wait=True)\n",
    "    with out: display(image.to_thumb(500,500))\n",
    "    pred, pred_idx, proba = learner.predict(image)\n",
    "    predictions_label.value = f'Prediction: {pred}; Probability: {proba[pred_idx]: .04f}'\n",
    "    Normal_label.value = f'Normal probability: {proba[0]: .04f}'\n",
    "    Oblique_label.value = f'Oblique probability: {proba[1]: .04f}'\n",
    "    Reverse_label.value = f'Reverse probability: {proba[2]: .04f}'\n",
    "    Strike_Slip_label.value = f'Strike Slip probability: {proba[3]: .04f}'\n",
    "\n",
    "\n",
    "        \n",
    "uploader.observe(on_upload,names=['data'])"
   ]
  },
  {
   "cell_type": "code",
   "execution_count": 41,
   "metadata": {},
   "outputs": [],
   "source": [
    "VBox1 = widgets.VBox([widgets.Label('Upload your moment tensor'), uploader, out, predictions_label, Normal_label,\\\n",
    "                      Oblique_label, Reverse_label, Strike_Slip_label])\n"
   ]
  },
  {
   "cell_type": "code",
   "execution_count": 42,
   "metadata": {},
   "outputs": [
    {
     "data": {
      "application/vnd.jupyter.widget-view+json": {
       "model_id": "c6df7ab1cc134001927d58e17026b889",
       "version_major": 2,
       "version_minor": 0
      },
      "text/plain": [
       "VBox(children=(Label(value='Upload your moment tensor'), FileUpload(value={'canvas2labeled.png': {'metadata': …"
      ]
     },
     "metadata": {},
     "output_type": "display_data"
    },
    {
     "data": {
      "text/html": [],
      "text/plain": [
       "<IPython.core.display.HTML object>"
      ]
     },
     "metadata": {},
     "output_type": "display_data"
    },
    {
     "data": {
      "text/html": [],
      "text/plain": [
       "<IPython.core.display.HTML object>"
      ]
     },
     "metadata": {},
     "output_type": "display_data"
    }
   ],
   "source": [
    "VBox1"
   ]
  },
  {
   "cell_type": "code",
   "execution_count": null,
   "metadata": {},
   "outputs": [],
   "source": []
  },
  {
   "cell_type": "code",
   "execution_count": null,
   "metadata": {},
   "outputs": [],
   "source": []
  },
  {
   "cell_type": "code",
   "execution_count": null,
   "metadata": {},
   "outputs": [],
   "source": []
  }
 ],
 "metadata": {
  "kernelspec": {
   "display_name": "Python 3",
   "language": "python",
   "name": "python3"
  },
  "language_info": {
   "codemirror_mode": {
    "name": "ipython",
    "version": 3
   },
   "file_extension": ".py",
   "mimetype": "text/x-python",
   "name": "python",
   "nbconvert_exporter": "python",
   "pygments_lexer": "ipython3",
   "version": "3.8.5"
  }
 },
 "nbformat": 4,
 "nbformat_minor": 4
}
